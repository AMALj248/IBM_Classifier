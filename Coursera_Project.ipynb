{
    "cells": [
        {
            "metadata": {
                "button": false,
                "new_sheet": false,
                "run_control": {
                    "read_only": false
                }
            },
            "cell_type": "markdown",
            "source": "<a href=\"https://www.bigdatauniversity.com\"><img src=\"https://ibm.box.com/shared/static/cw2c7r3o20w9zn8gkecaeyjhgw3xdgbj.png\" width=\"400\" align=\"center\"></a>\n\n<h1 align=\"center\"><font size=\"5\">Classification with Python</font></h1>"
        },
        {
            "metadata": {
                "button": false,
                "new_sheet": false,
                "run_control": {
                    "read_only": false
                }
            },
            "cell_type": "markdown",
            "source": "In this notebook we try to practice all the classification algorithms that we learned in this course.\n\nWe load a dataset using Pandas library, and apply the following algorithms, and find the best one for this specific dataset by accuracy evaluation methods.\n\nLets first load required libraries:"
        },
        {
            "metadata": {
                "button": false,
                "new_sheet": false,
                "run_control": {
                    "read_only": false
                }
            },
            "cell_type": "code",
            "source": "import numpy as np\nimport pandas as pd\nimport scipy\nimport sklearn as sks\nimport seaborn as sns\nimport plotly\nimport matplotlib.pyplot as plt\nfrom sklearn.preprocessing import OneHotEncoder ,StandardScaler , MinMaxScaler\nfrom sklearn.model_selection import train_test_split , GridSearchCV\nfrom sklearn.linear_model import LogisticRegression\nfrom sklearn import tree\nfrom sklearn.neighbors import KNeighborsClassifier\nfrom sklearn.tree import DecisionTreeClassifier\nfrom sklearn import svm\nimport scipy\nfrom sklearn.metrics import f1_score , log_loss , jaccard_similarity_score\nimport warnings\nimport warnings\nwarnings.filterwarnings('ignore')\nwarnings.filterwarnings(action='ignore',category=DeprecationWarning)\nwarnings.filterwarnings(action='ignore',category=FutureWarning)",
            "execution_count": 1,
            "outputs": []
        },
        {
            "metadata": {
                "button": false,
                "new_sheet": false,
                "run_control": {
                    "read_only": false
                }
            },
            "cell_type": "markdown",
            "source": "### About dataset"
        },
        {
            "metadata": {
                "button": false,
                "new_sheet": false,
                "run_control": {
                    "read_only": false
                }
            },
            "cell_type": "markdown",
            "source": "This dataset is about past loans. The __Loan_train.csv__ data set includes details of 346 customers whose loan are already paid off or defaulted. It includes following fields:\n\n| Field          | Description                                                                           |\n|----------------|---------------------------------------------------------------------------------------|\n| Loan_status    | Whether a loan is paid off on in collection                                           |\n| Principal      | Basic principal loan amount at the                                                    |\n| Terms          | Origination terms which can be weekly (7 days), biweekly, and monthly payoff schedule |\n| Effective_date | When the loan got originated and took effects                                         |\n| Due_date       | Since it\u2019s one-time payoff schedule, each loan has one single due date                |\n| Age            | Age of applicant                                                                      |\n| Education      | Education of applicant                                                                |\n| Gender         | The gender of applicant                                                               |"
        },
        {
            "metadata": {
                "button": false,
                "new_sheet": false,
                "run_control": {
                    "read_only": false
                }
            },
            "cell_type": "markdown",
            "source": "Lets download the dataset"
        },
        {
            "metadata": {
                "button": false,
                "new_sheet": false,
                "run_control": {
                    "read_only": false
                }
            },
            "cell_type": "code",
            "source": "!wget -O loan_train.csv https://s3-api.us-geo.objectstorage.softlayer.net/cf-courses-data/CognitiveClass/ML0101ENv3/labs/loan_train.csv",
            "execution_count": 2,
            "outputs": [
                {
                    "output_type": "stream",
                    "text": "--2020-07-16 08:21:31--  https://s3-api.us-geo.objectstorage.softlayer.net/cf-courses-data/CognitiveClass/ML0101ENv3/labs/loan_train.csv\nResolving s3-api.us-geo.objectstorage.softlayer.net (s3-api.us-geo.objectstorage.softlayer.net)... 67.228.254.196\nConnecting to s3-api.us-geo.objectstorage.softlayer.net (s3-api.us-geo.objectstorage.softlayer.net)|67.228.254.196|:443... connected.\nHTTP request sent, awaiting response... 200 OK\nLength: 23101 (23K) [text/csv]\nSaving to: \u2018loan_train.csv\u2019\n\n100%[======================================>] 23,101      --.-K/s   in 0.001s  \n\n2020-07-16 08:21:31 (15.4 MB/s) - \u2018loan_train.csv\u2019 saved [23101/23101]\n\n",
                    "name": "stdout"
                }
            ]
        },
        {
            "metadata": {
                "button": false,
                "new_sheet": false,
                "run_control": {
                    "read_only": false
                }
            },
            "cell_type": "markdown",
            "source": "### Load Data From CSV File  "
        },
        {
            "metadata": {
                "button": false,
                "new_sheet": false,
                "run_control": {
                    "read_only": false
                }
            },
            "cell_type": "code",
            "source": "#loading the dataset\ndata = pd.read_csv('loan_train.csv')\nprint(\"Csv = \\n\", data.head())",
            "execution_count": 3,
            "outputs": [
                {
                    "output_type": "stream",
                    "text": "Csv = \n    Unnamed: 0  Unnamed: 0.1 loan_status  Principal  terms effective_date  \\\n0           0             0     PAIDOFF       1000     30       9/8/2016   \n1           2             2     PAIDOFF       1000     30       9/8/2016   \n2           3             3     PAIDOFF       1000     15       9/8/2016   \n3           4             4     PAIDOFF       1000     30       9/9/2016   \n4           6             6     PAIDOFF       1000     30       9/9/2016   \n\n    due_date  age             education  Gender  \n0  10/7/2016   45  High School or Below    male  \n1  10/7/2016   33              Bechalor  female  \n2  9/22/2016   27               college    male  \n3  10/8/2016   28               college  female  \n4  10/8/2016   29               college    male  \n",
                    "name": "stdout"
                }
            ]
        },
        {
            "metadata": {},
            "cell_type": "code",
            "source": "data.shape\n#checking null values\nprint(\"Null Values Sum \\n= \" , data.isnull().sum())\n\n#dropping useless column  Unnamed: 0, index\ndata.drop([ 'Unnamed: 0' , 'Unnamed: 0.1'  ],axis =1 ,  inplace=True )\nprint(\"After Dropping Columns \\n\" , data.head(20))\n\n#since no null values we can proceed with eda\n",
            "execution_count": 4,
            "outputs": [
                {
                    "output_type": "stream",
                    "text": "Null Values Sum \n=  Unnamed: 0        0\nUnnamed: 0.1      0\nloan_status       0\nPrincipal         0\nterms             0\neffective_date    0\ndue_date          0\nage               0\neducation         0\nGender            0\ndtype: int64\nAfter Dropping Columns \n    loan_status  Principal  terms effective_date   due_date  age  \\\n0      PAIDOFF       1000     30       9/8/2016  10/7/2016   45   \n1      PAIDOFF       1000     30       9/8/2016  10/7/2016   33   \n2      PAIDOFF       1000     15       9/8/2016  9/22/2016   27   \n3      PAIDOFF       1000     30       9/9/2016  10/8/2016   28   \n4      PAIDOFF       1000     30       9/9/2016  10/8/2016   29   \n5      PAIDOFF       1000     30       9/9/2016  10/8/2016   36   \n6      PAIDOFF       1000     30       9/9/2016  10/8/2016   28   \n7      PAIDOFF        800     15      9/10/2016  9/24/2016   26   \n8      PAIDOFF        300      7      9/10/2016  9/16/2016   29   \n9      PAIDOFF       1000     15      9/10/2016  10/9/2016   39   \n10     PAIDOFF       1000     30      9/10/2016  10/9/2016   26   \n11     PAIDOFF        900      7      9/10/2016  9/16/2016   26   \n12     PAIDOFF       1000      7      9/10/2016  9/16/2016   27   \n13     PAIDOFF        800     15      9/10/2016  9/24/2016   26   \n14     PAIDOFF       1000     30      9/10/2016  10/9/2016   40   \n15     PAIDOFF       1000     15      9/10/2016  9/24/2016   32   \n16     PAIDOFF       1000     30      9/10/2016  10/9/2016   32   \n17     PAIDOFF        800     30      9/10/2016  10/9/2016   26   \n18     PAIDOFF       1000     30      9/10/2016  10/9/2016   26   \n19     PAIDOFF       1000     30      9/10/2016  10/9/2016   25   \n\n               education  Gender  \n0   High School or Below    male  \n1               Bechalor  female  \n2                college    male  \n3                college  female  \n4                college    male  \n5                college    male  \n6                college    male  \n7                college    male  \n8                college    male  \n9   High School or Below    male  \n10               college    male  \n11               college  female  \n12  High School or Below    male  \n13               college    male  \n14  High School or Below    male  \n15  High School or Below    male  \n16  High School or Below    male  \n17               college    male  \n18               college    male  \n19  High School or Below    male  \n",
                    "name": "stdout"
                }
            ]
        },
        {
            "metadata": {
                "button": false,
                "new_sheet": false,
                "run_control": {
                    "read_only": false
                }
            },
            "cell_type": "markdown",
            "source": "### Converting to datetime Format and adding a new column"
        },
        {
            "metadata": {
                "button": false,
                "new_sheet": false,
                "run_control": {
                    "read_only": false
                }
            },
            "cell_type": "code",
            "source": "#Data PreProcessing\nprint(data['due_date'].dtype)\nprint(data['effective_date'].dtype)\ndata['effective_date']=pd.to_datetime(data['effective_date'] , infer_datetime_format=True)\ndata['due_date']=pd.to_datetime(data['due_date'] , infer_datetime_format=True)\n\nprint(data['due_date'].dtype)\nprint(data['effective_date'].dtype)\nprint(data.head())\n\n#Making  a new column due_days which the elapsed days from loan approval to due date\nlst=[]\nfor row in data.itertuples():\n x = row.due_date - row.effective_date\n lst.append(x.days)\n\ndata['due_days'] = lst\nprint(\"New Column added = \\n\" , data['due_days'])",
            "execution_count": 5,
            "outputs": [
                {
                    "output_type": "stream",
                    "text": "object\nobject\ndatetime64[ns]\ndatetime64[ns]\n  loan_status  Principal  terms effective_date   due_date  age  \\\n0     PAIDOFF       1000     30     2016-09-08 2016-10-07   45   \n1     PAIDOFF       1000     30     2016-09-08 2016-10-07   33   \n2     PAIDOFF       1000     15     2016-09-08 2016-09-22   27   \n3     PAIDOFF       1000     30     2016-09-09 2016-10-08   28   \n4     PAIDOFF       1000     30     2016-09-09 2016-10-08   29   \n\n              education  Gender  \n0  High School or Below    male  \n1              Bechalor  female  \n2               college    male  \n3               college  female  \n4               college    male  \nNew Column added = \n 0      29\n1      29\n2      14\n3      29\n4      29\n5      29\n6      29\n7      14\n8       6\n9      29\n10     29\n11      6\n12      6\n13     14\n14     29\n15     14\n16     29\n17     29\n18     29\n19     29\n20     14\n21     29\n22     14\n23     14\n24     29\n25     29\n26     14\n27     29\n28     29\n29     29\n       ..\n316    14\n317    29\n318    29\n319    14\n320    14\n321    29\n322    14\n323    14\n324    29\n325    29\n326    29\n327    29\n328    14\n329    14\n330    29\n331    29\n332    59\n333    14\n334    29\n335    14\n336    44\n337    14\n338    14\n339    29\n340    59\n341    14\n342    29\n343    14\n344    59\n345    29\nName: due_days, Length: 346, dtype: int64\n",
                    "name": "stdout"
                }
            ]
        },
        {
            "metadata": {
                "button": false,
                "new_sheet": false,
                "run_control": {
                    "read_only": false
                }
            },
            "cell_type": "markdown",
            "source": "# Data visualization and pre-processing\n\n"
        },
        {
            "metadata": {
                "button": false,
                "new_sheet": false,
                "run_control": {
                    "read_only": false
                }
            },
            "cell_type": "markdown",
            "source": "Let\u2019s see how many of each class is in our data set "
        },
        {
            "metadata": {
                "button": false,
                "new_sheet": false,
                "run_control": {
                    "read_only": false
                }
            },
            "cell_type": "code",
            "source": "#EDA\nsns.boxplot(x='education' , y='age' , data = data)\nplt.title('Plot of Education Level and Age ')\nplt.show()\n\nsns.countplot(x='Gender' , data = data)\nplt.title('Count Of Gender in Data')\nplt.show()\n\nsns.distplot(data['Principal'])\nplt.title('Principal Wise Distribution')\nplt.show()",
            "execution_count": 6,
            "outputs": [
                {
                    "output_type": "display_data",
                    "data": {
                        "text/plain": "<Figure size 432x288 with 1 Axes>",
                        "image/png": "[encoded data removed]"
                    },
                    "metadata": {
                        "needs_background": "light"
                    }
                },
                {
                    "output_type": "display_data",
                    "data": {
                        "text/plain": "<Figure size 432x288 with 1 Axes>",
                        "image/png": "[encoded data removed]"
                    },
                    "metadata": {
                        "needs_background": "light"
                    }
                },
                {
                    "output_type": "display_data",
                    "data": {
                        "text/plain": "<Figure size 432x288 with 1 Axes>",
                        "image/png": "[encoded data removed]"
                    },
                    "metadata": {
                        "needs_background": "light"
                    }
                }
            ]
        },
        {
            "metadata": {
                "button": false,
                "new_sheet": false,
                "run_control": {
                    "read_only": false
                }
            },
            "cell_type": "markdown",
            "source": "260 people have paid off the loan on time while 86 have gone into collection \n"
        },
        {
            "metadata": {},
            "cell_type": "markdown",
            "source": "Lets plot some columns to underestand data better:"
        },
        {
            "metadata": {
                "button": false,
                "new_sheet": false,
                "run_control": {
                    "read_only": false
                }
            },
            "cell_type": "markdown",
            "source": "# Pre-processing:  Feature selection/extraction"
        },
        {
            "metadata": {
                "button": false,
                "new_sheet": false,
                "run_control": {
                    "read_only": false
                }
            },
            "cell_type": "markdown",
            "source": "## Convert Categorical features to numerical values"
        },
        {
            "metadata": {
                "button": false,
                "new_sheet": false,
                "run_control": {
                    "read_only": false
                }
            },
            "cell_type": "markdown",
            "source": "## One Hot Encoding  \n"
        },
        {
            "metadata": {
                "button": false,
                "new_sheet": false,
                "run_control": {
                    "read_only": false
                }
            },
            "cell_type": "code",
            "source": "#converting categorical data to numerical type\n\n#converting the target variable to numerical\n\nprint(data['loan_status'].unique())\ndata['loan_status'].replace(to_replace=['PAIDOFF','COLLECTION'], value=[0,1],inplace=True)\nprint(\"Target value replaced\\n\"  , data.head())\n\n#doing the same to gender column\nprint(data['Gender'].unique())\ndata['Gender'].replace(to_replace=['male','female'], value=[0,1],inplace=True)\nprint(\"Gender value replaced\\n\"  , data.head())\n\n#doing one hot encoder for education column since it needs to be more expressive\n# creating instance of one-hot-encoder\nenc = OneHotEncoder()\n# passing bridge-types-cat column (label encoded values of bridge_types)\nenc_df = pd.DataFrame(enc.fit_transform(data[['education']]).toarray())\n# merge with main df bridge_df on key values\ndata = data.join(enc_df)\nprint(data.head(20))\nprint(data.columns)",
            "execution_count": 7,
            "outputs": [
                {
                    "output_type": "stream",
                    "text": "['PAIDOFF' 'COLLECTION']\nTarget value replaced\n    loan_status  Principal  terms effective_date   due_date  age  \\\n0            0       1000     30     2016-09-08 2016-10-07   45   \n1            0       1000     30     2016-09-08 2016-10-07   33   \n2            0       1000     15     2016-09-08 2016-09-22   27   \n3            0       1000     30     2016-09-09 2016-10-08   28   \n4            0       1000     30     2016-09-09 2016-10-08   29   \n\n              education  Gender  due_days  \n0  High School or Below    male        29  \n1              Bechalor  female        29  \n2               college    male        14  \n3               college  female        29  \n4               college    male        29  \n['male' 'female']\nGender value replaced\n    loan_status  Principal  terms effective_date   due_date  age  \\\n0            0       1000     30     2016-09-08 2016-10-07   45   \n1            0       1000     30     2016-09-08 2016-10-07   33   \n2            0       1000     15     2016-09-08 2016-09-22   27   \n3            0       1000     30     2016-09-09 2016-10-08   28   \n4            0       1000     30     2016-09-09 2016-10-08   29   \n\n              education  Gender  due_days  \n0  High School or Below       0        29  \n1              Bechalor       1        29  \n2               college       0        14  \n3               college       1        29  \n4               college       0        29  \n    loan_status  Principal  terms effective_date   due_date  age  \\\n0             0       1000     30     2016-09-08 2016-10-07   45   \n1             0       1000     30     2016-09-08 2016-10-07   33   \n2             0       1000     15     2016-09-08 2016-09-22   27   \n3             0       1000     30     2016-09-09 2016-10-08   28   \n4             0       1000     30     2016-09-09 2016-10-08   29   \n5             0       1000     30     2016-09-09 2016-10-08   36   \n6             0       1000     30     2016-09-09 2016-10-08   28   \n7             0        800     15     2016-09-10 2016-09-24   26   \n8             0        300      7     2016-09-10 2016-09-16   29   \n9             0       1000     15     2016-09-10 2016-10-09   39   \n10            0       1000     30     2016-09-10 2016-10-09   26   \n11            0        900      7     2016-09-10 2016-09-16   26   \n12            0       1000      7     2016-09-10 2016-09-16   27   \n13            0        800     15     2016-09-10 2016-09-24   26   \n14            0       1000     30     2016-09-10 2016-10-09   40   \n15            0       1000     15     2016-09-10 2016-09-24   32   \n16            0       1000     30     2016-09-10 2016-10-09   32   \n17            0        800     30     2016-09-10 2016-10-09   26   \n18            0       1000     30     2016-09-10 2016-10-09   26   \n19            0       1000     30     2016-09-10 2016-10-09   25   \n\n               education  Gender  due_days    0    1    2    3  \n0   High School or Below       0        29  0.0  1.0  0.0  0.0  \n1               Bechalor       1        29  1.0  0.0  0.0  0.0  \n2                college       0        14  0.0  0.0  0.0  1.0  \n3                college       1        29  0.0  0.0  0.0  1.0  \n4                college       0        29  0.0  0.0  0.0  1.0  \n5                college       0        29  0.0  0.0  0.0  1.0  \n6                college       0        29  0.0  0.0  0.0  1.0  \n7                college       0        14  0.0  0.0  0.0  1.0  \n8                college       0         6  0.0  0.0  0.0  1.0  \n9   High School or Below       0        29  0.0  1.0  0.0  0.0  \n10               college       0        29  0.0  0.0  0.0  1.0  \n11               college       1         6  0.0  0.0  0.0  1.0  \n12  High School or Below       0         6  0.0  1.0  0.0  0.0  \n13               college       0        14  0.0  0.0  0.0  1.0  \n14  High School or Below       0        29  0.0  1.0  0.0  0.0  \n15  High School or Below       0        14  0.0  1.0  0.0  0.0  \n16  High School or Below       0        29  0.0  1.0  0.0  0.0  \n17               college       0        29  0.0  0.0  0.0  1.0  \n18               college       0        29  0.0  0.0  0.0  1.0  \n19  High School or Below       0        29  0.0  1.0  0.0  0.0  \nIndex([   'loan_status',      'Principal',          'terms', 'effective_date',\n             'due_date',            'age',      'education',         'Gender',\n             'due_days',                0,                1,                2,\n                      3],\n      dtype='object')\n",
                    "name": "stdout"
                }
            ]
        },
        {
            "metadata": {
                "button": false,
                "new_sheet": false,
                "run_control": {
                    "read_only": false
                }
            },
            "cell_type": "markdown",
            "source": "### Feature selection"
        },
        {
            "metadata": {
                "button": false,
                "new_sheet": false,
                "run_control": {
                    "read_only": false
                }
            },
            "cell_type": "markdown",
            "source": "Lets defind feature sets, X:"
        },
        {
            "metadata": {
                "button": false,
                "new_sheet": false,
                "run_control": {
                    "read_only": false
                }
            },
            "cell_type": "code",
            "source": "#defining X and Y\nX = data.drop([  'loan_status' , 'effective_date' , 'due_date' , 'education' ],axis =1 )\nY= data['loan_status']\nprint('X = \\n' , X)\nprint(\"Y= \\n\" , Y)\n\n",
            "execution_count": 8,
            "outputs": [
                {
                    "output_type": "stream",
                    "text": "X = \n      Principal  terms  age  Gender  due_days    0    1    2    3\n0         1000     30   45       0        29  0.0  1.0  0.0  0.0\n1         1000     30   33       1        29  1.0  0.0  0.0  0.0\n2         1000     15   27       0        14  0.0  0.0  0.0  1.0\n3         1000     30   28       1        29  0.0  0.0  0.0  1.0\n4         1000     30   29       0        29  0.0  0.0  0.0  1.0\n5         1000     30   36       0        29  0.0  0.0  0.0  1.0\n6         1000     30   28       0        29  0.0  0.0  0.0  1.0\n7          800     15   26       0        14  0.0  0.0  0.0  1.0\n8          300      7   29       0         6  0.0  0.0  0.0  1.0\n9         1000     15   39       0        29  0.0  1.0  0.0  0.0\n10        1000     30   26       0        29  0.0  0.0  0.0  1.0\n11         900      7   26       1         6  0.0  0.0  0.0  1.0\n12        1000      7   27       0         6  0.0  1.0  0.0  0.0\n13         800     15   26       0        14  0.0  0.0  0.0  1.0\n14        1000     30   40       0        29  0.0  1.0  0.0  0.0\n15        1000     15   32       0        14  0.0  1.0  0.0  0.0\n16        1000     30   32       0        29  0.0  1.0  0.0  0.0\n17         800     30   26       0        29  0.0  0.0  0.0  1.0\n18        1000     30   26       0        29  0.0  0.0  0.0  1.0\n19        1000     30   25       0        29  0.0  1.0  0.0  0.0\n20        1000     15   26       0        14  0.0  0.0  0.0  1.0\n21        1000     30   29       0        29  0.0  1.0  0.0  0.0\n22         800     15   39       0        14  1.0  0.0  0.0  0.0\n23        1000     15   34       0        14  1.0  0.0  0.0  0.0\n24        1000     30   31       0        29  0.0  0.0  0.0  1.0\n25        1000     30   33       0        29  0.0  0.0  0.0  1.0\n26         800     15   33       0        14  0.0  1.0  0.0  0.0\n27        1000     30   37       0        29  0.0  0.0  0.0  1.0\n28        1000     30   27       0        29  0.0  0.0  0.0  1.0\n29        1000     30   37       0        29  0.0  0.0  0.0  1.0\n..         ...    ...  ...     ...       ...  ...  ...  ...  ...\n316        800     15   28       0        14  1.0  0.0  0.0  0.0\n317       1000     30   24       0        29  0.0  0.0  0.0  1.0\n318       1000     30   18       0        29  0.0  0.0  0.0  1.0\n319        800     15   25       0        14  0.0  1.0  0.0  0.0\n320       1000     15   40       0        14  0.0  1.0  0.0  0.0\n321       1000     30   29       0        29  0.0  0.0  0.0  1.0\n322        800     15   26       1        14  0.0  1.0  0.0  0.0\n323       1000     15   30       0        14  0.0  0.0  0.0  1.0\n324       1000     30   33       0        29  0.0  0.0  0.0  1.0\n325       1000     30   30       0        29  0.0  0.0  0.0  1.0\n326       1000     30   32       0        29  0.0  0.0  0.0  1.0\n327       1000     30   25       0        29  0.0  1.0  0.0  0.0\n328        800     15   35       0        14  0.0  1.0  0.0  0.0\n329       1000     15   30       0        14  1.0  0.0  0.0  0.0\n330       1000     30   26       0        29  0.0  1.0  0.0  0.0\n331       1000     30   29       0        29  0.0  1.0  0.0  0.0\n332       1000     30   26       0        59  0.0  1.0  0.0  0.0\n333        800     15   46       0        14  0.0  1.0  0.0  0.0\n334       1000     30   36       0        29  0.0  1.0  0.0  0.0\n335       1000     15   38       0        14  1.0  0.0  0.0  0.0\n336       1000     15   32       0        44  0.0  1.0  0.0  0.0\n337       1000     15   30       0        14  0.0  0.0  0.0  1.0\n338        800     15   35       0        14  0.0  1.0  0.0  0.0\n339       1000     30   29       1        29  0.0  0.0  0.0  1.0\n340       1000     30   26       0        59  0.0  0.0  0.0  1.0\n341        800     15   32       0        14  0.0  1.0  0.0  0.0\n342       1000     30   25       0        29  0.0  1.0  0.0  0.0\n343        800     15   39       0        14  0.0  0.0  0.0  1.0\n344       1000     30   28       0        59  0.0  0.0  0.0  1.0\n345       1000     30   26       0        29  0.0  0.0  0.0  1.0\n\n[346 rows x 9 columns]\nY= \n 0      0\n1      0\n2      0\n3      0\n4      0\n5      0\n6      0\n7      0\n8      0\n9      0\n10     0\n11     0\n12     0\n13     0\n14     0\n15     0\n16     0\n17     0\n18     0\n19     0\n20     0\n21     0\n22     0\n23     0\n24     0\n25     0\n26     0\n27     0\n28     0\n29     0\n      ..\n316    1\n317    1\n318    1\n319    1\n320    1\n321    1\n322    1\n323    1\n324    1\n325    1\n326    1\n327    1\n328    1\n329    1\n330    1\n331    1\n332    1\n333    1\n334    1\n335    1\n336    1\n337    1\n338    1\n339    1\n340    1\n341    1\n342    1\n343    1\n344    1\n345    1\nName: loan_status, Length: 346, dtype: int64\n",
                    "name": "stdout"
                }
            ]
        },
        {
            "metadata": {
                "button": false,
                "new_sheet": false,
                "run_control": {
                    "read_only": false
                }
            },
            "cell_type": "markdown",
            "source": "## Normalize Data "
        },
        {
            "metadata": {
                "button": false,
                "new_sheet": false,
                "run_control": {
                    "read_only": false
                }
            },
            "cell_type": "markdown",
            "source": "Data Standardization give data zero mean and unit variance"
        },
        {
            "metadata": {
                "button": false,
                "new_sheet": false,
                "run_control": {
                    "read_only": false
                }
            },
            "cell_type": "code",
            "source": "#Scaling the Input Data Since it has multiple Units\nScaler = MinMaxScaler()\nX = Scaler.fit_transform(X)\n\n\nX_train, X_test, Y_train, Y_test = train_test_split(X, Y, test_size=0.2, random_state=5, shuffle=True)",
            "execution_count": 9,
            "outputs": []
        },
        {
            "metadata": {
                "button": false,
                "new_sheet": false,
                "run_control": {
                    "read_only": false
                }
            },
            "cell_type": "markdown",
            "source": "# Classification "
        },
        {
            "metadata": {
                "button": false,
                "new_sheet": false,
                "run_control": {
                    "read_only": false
                }
            },
            "cell_type": "markdown",
            "source": "Now, it is your turn, use the training set to build an accurate model. Then use the test set to report the accuracy of the model\nYou should use the following algorithm:\n- K Nearest Neighbor(KNN)\n- Decision Tree\n- Support Vector Machine\n- Logistic Regression\n\n\n\n__ Notice:__ \n- You can go above and change the pre-processing, feature selection, feature-extraction, and so on, to make a better model.\n- You should use either scikit-learn, Scipy or Numpy libraries for developing the classification algorithms.\n- You should include the code of the algorithm in the following cells."
        },
        {
            "metadata": {},
            "cell_type": "markdown",
            "source": "# K Nearest Neighbor(KNN)\nNotice: You should find the best k to build the model with the best accuracy.  \n**warning:** You should not use the __loan_test.csv__ for finding the best k, however, you can split your train_loan.csv into train and test to find the best __k__."
        },
        {
            "metadata": {},
            "cell_type": "code",
            "source": "#KNN Model\n#now we use a KNN model for the same\n\n#Now to find the best model we use GridSearchCV\n\ngrid_params = {\n    'n_neighbors'  : [2,3,4,5,6,7,8,9,10] ,\n     'weights' : ['uniform' ,'distance'] ,\n}\n\ngrid = GridSearchCV ( estimator=KNeighborsClassifier() , param_grid=grid_params,verbose =1 ,scoring='roc_auc')\ngrid_results = grid.fit(X_train,Y_train)\n\nknn_pred =grid.predict(X_test)\n#Score of Knn Model\nprint()\nprint()\nprint(\"F1 Sore of the KNN Classification model = \" , f1_score(Y_test , knn_pred , average='weighted' ,labels=np.unique(knn_pred)))\nprint(\"Jacard Score of the KNN Classification model =  \" ,  jaccard_similarity_score(Y_test , knn_pred ))\nprint(\"The Best K Value Has been Found as \" , grid.best_estimator_)\nprint()",
            "execution_count": 10,
            "outputs": [
                {
                    "output_type": "stream",
                    "text": "Fitting 3 folds for each of 18 candidates, totalling 54 fits\n",
                    "name": "stdout"
                },
                {
                    "output_type": "stream",
                    "text": "[Parallel(n_jobs=1)]: Using backend SequentialBackend with 1 concurrent workers.\n",
                    "name": "stderr"
                },
                {
                    "output_type": "stream",
                    "text": "\n\nF1 Sore of the KNN Classification model =  0.6019665683382499\nJacard Score of the KNN Classification model =   0.6714285714285714\nThe Best K Value Has been Found as  KNeighborsClassifier(algorithm='auto', leaf_size=30, metric='minkowski',\n           metric_params=None, n_jobs=None, n_neighbors=5, p=2,\n           weights='uniform')\n\n",
                    "name": "stdout"
                },
                {
                    "output_type": "stream",
                    "text": "[Parallel(n_jobs=1)]: Done  54 out of  54 | elapsed:    0.4s finished\n",
                    "name": "stderr"
                }
            ]
        },
        {
            "metadata": {},
            "cell_type": "markdown",
            "source": "# Decision Tree"
        },
        {
            "metadata": {},
            "cell_type": "code",
            "source": "#Descion Tree\n\n# We will again use GridSearchCV to find the best model\n\nparams = { 'max_leaf_nodes': list(range(2, 20)), 'min_samples_split': [2, 3, 4] ,\n           'max_depth'  :  [2,4,6,8]}\n\ngrid_2 =GridSearchCV(estimator=DecisionTreeClassifier(min_samples_leaf=1), param_grid=params ,verbose=1 ,scoring='roc_auc')\n\ngrid_2.fit(X_train, Y_train)\n\ntree_pred = grid_2.predict(X_test)\n\n#Score of Descion Tree Model\nprint()\nprint()\nprint(\"F1 Sore of the Descion Tree model = \" , f1_score(Y_test , tree_pred , average='weighted' ,labels=np.unique(tree_pred)))\nprint(\"Jacard Score of the Descion Tree model =  \" ,  jaccard_similarity_score(Y_test , tree_pred))\nprint()\nprint()",
            "execution_count": 11,
            "outputs": [
                {
                    "output_type": "stream",
                    "text": "Fitting 3 folds for each of 216 candidates, totalling 648 fits\n",
                    "name": "stdout"
                },
                {
                    "output_type": "stream",
                    "text": "[Parallel(n_jobs=1)]: Using backend SequentialBackend with 1 concurrent workers.\n",
                    "name": "stderr"
                },
                {
                    "output_type": "stream",
                    "text": "\n\nF1 Sore of the Descion Tree model =  0.5694915254237288\nJacard Score of the Descion Tree model =   0.6857142857142857\n\n\n",
                    "name": "stdout"
                },
                {
                    "output_type": "stream",
                    "text": "[Parallel(n_jobs=1)]: Done 648 out of 648 | elapsed:    2.7s finished\n",
                    "name": "stderr"
                }
            ]
        },
        {
            "metadata": {},
            "cell_type": "markdown",
            "source": "# Support Vector Machine"
        },
        {
            "metadata": {},
            "cell_type": "code",
            "source": "#SVM Model\nfrom sklearn import svm\nsvm = svm.SVC(probability=True)\n\npram_svm = { 'C': [1,0.01,0.001 , 0.0001,0.00001 ,0.000001],\n            'kernel' : ['rbf' , 'poly' ]}\ngrid_3=GridSearchCV(estimator=svm , param_grid=pram_svm ,  verbose = 1 ,scoring='roc_auc')\ngrid_3.fit(X_train , Y_train)\nsvm_pred=grid_3.predict(X_test)\n#Score of Support Vector Classifier Model\nprint()\nprint()\nprint(\"F1 Sore of the SVM model = \" , f1_score(Y_test , svm_pred , average='weighted', labels=np.unique(svm_pred)))\nprint(\"Jacard Score of the SVM model =  \" ,  jaccard_similarity_score(Y_test , svm_pred))\nprint()\nprint()\n",
            "execution_count": 26,
            "outputs": [
                {
                    "output_type": "stream",
                    "text": "/opt/conda/envs/Python36/lib/python3.6/site-packages/sklearn/model_selection/_split.py:2053: FutureWarning:\n\nYou should specify a value for 'cv' instead of relying on the default value. The default value will change from 3 to 5 in version 0.22.\n\n[Parallel(n_jobs=1)]: Using backend SequentialBackend with 1 concurrent workers.\n/opt/conda/envs/Python36/lib/python3.6/site-packages/sklearn/svm/base.py:196: FutureWarning:\n\nThe default value of gamma will change from 'auto' to 'scale' in version 0.22 to account better for unscaled features. Set gamma explicitly to 'auto' or 'scale' to avoid this warning.\n\n/opt/conda/envs/Python36/lib/python3.6/site-packages/sklearn/svm/base.py:196: FutureWarning:\n\nThe default value of gamma will change from 'auto' to 'scale' in version 0.22 to account better for unscaled features. Set gamma explicitly to 'auto' or 'scale' to avoid this warning.\n\n/opt/conda/envs/Python36/lib/python3.6/site-packages/sklearn/svm/base.py:196: FutureWarning:\n\nThe default value of gamma will change from 'auto' to 'scale' in version 0.22 to account better for unscaled features. Set gamma explicitly to 'auto' or 'scale' to avoid this warning.\n\n/opt/conda/envs/Python36/lib/python3.6/site-packages/sklearn/svm/base.py:196: FutureWarning:\n\nThe default value of gamma will change from 'auto' to 'scale' in version 0.22 to account better for unscaled features. Set gamma explicitly to 'auto' or 'scale' to avoid this warning.\n\n/opt/conda/envs/Python36/lib/python3.6/site-packages/sklearn/svm/base.py:196: FutureWarning:\n\nThe default value of gamma will change from 'auto' to 'scale' in version 0.22 to account better for unscaled features. Set gamma explicitly to 'auto' or 'scale' to avoid this warning.\n\n/opt/conda/envs/Python36/lib/python3.6/site-packages/sklearn/svm/base.py:196: FutureWarning:\n\nThe default value of gamma will change from 'auto' to 'scale' in version 0.22 to account better for unscaled features. Set gamma explicitly to 'auto' or 'scale' to avoid this warning.\n\n/opt/conda/envs/Python36/lib/python3.6/site-packages/sklearn/svm/base.py:196: FutureWarning:\n\nThe default value of gamma will change from 'auto' to 'scale' in version 0.22 to account better for unscaled features. Set gamma explicitly to 'auto' or 'scale' to avoid this warning.\n\n/opt/conda/envs/Python36/lib/python3.6/site-packages/sklearn/svm/base.py:196: FutureWarning:\n\nThe default value of gamma will change from 'auto' to 'scale' in version 0.22 to account better for unscaled features. Set gamma explicitly to 'auto' or 'scale' to avoid this warning.\n\n/opt/conda/envs/Python36/lib/python3.6/site-packages/sklearn/svm/base.py:196: FutureWarning:\n\nThe default value of gamma will change from 'auto' to 'scale' in version 0.22 to account better for unscaled features. Set gamma explicitly to 'auto' or 'scale' to avoid this warning.\n\n/opt/conda/envs/Python36/lib/python3.6/site-packages/sklearn/svm/base.py:196: FutureWarning:\n\nThe default value of gamma will change from 'auto' to 'scale' in version 0.22 to account better for unscaled features. Set gamma explicitly to 'auto' or 'scale' to avoid this warning.\n\n/opt/conda/envs/Python36/lib/python3.6/site-packages/sklearn/svm/base.py:196: FutureWarning:\n\nThe default value of gamma will change from 'auto' to 'scale' in version 0.22 to account better for unscaled features. Set gamma explicitly to 'auto' or 'scale' to avoid this warning.\n\n/opt/conda/envs/Python36/lib/python3.6/site-packages/sklearn/svm/base.py:196: FutureWarning:\n\nThe default value of gamma will change from 'auto' to 'scale' in version 0.22 to account better for unscaled features. Set gamma explicitly to 'auto' or 'scale' to avoid this warning.\n\n/opt/conda/envs/Python36/lib/python3.6/site-packages/sklearn/svm/base.py:196: FutureWarning:\n\nThe default value of gamma will change from 'auto' to 'scale' in version 0.22 to account better for unscaled features. Set gamma explicitly to 'auto' or 'scale' to avoid this warning.\n\n/opt/conda/envs/Python36/lib/python3.6/site-packages/sklearn/svm/base.py:196: FutureWarning:\n\nThe default value of gamma will change from 'auto' to 'scale' in version 0.22 to account better for unscaled features. Set gamma explicitly to 'auto' or 'scale' to avoid this warning.\n\n/opt/conda/envs/Python36/lib/python3.6/site-packages/sklearn/svm/base.py:196: FutureWarning:\n\nThe default value of gamma will change from 'auto' to 'scale' in version 0.22 to account better for unscaled features. Set gamma explicitly to 'auto' or 'scale' to avoid this warning.\n\n/opt/conda/envs/Python36/lib/python3.6/site-packages/sklearn/svm/base.py:196: FutureWarning:\n\nThe default value of gamma will change from 'auto' to 'scale' in version 0.22 to account better for unscaled features. Set gamma explicitly to 'auto' or 'scale' to avoid this warning.\n\n/opt/conda/envs/Python36/lib/python3.6/site-packages/sklearn/svm/base.py:196: FutureWarning:\n\nThe default value of gamma will change from 'auto' to 'scale' in version 0.22 to account better for unscaled features. Set gamma explicitly to 'auto' or 'scale' to avoid this warning.\n\n/opt/conda/envs/Python36/lib/python3.6/site-packages/sklearn/svm/base.py:196: FutureWarning:\n\nThe default value of gamma will change from 'auto' to 'scale' in version 0.22 to account better for unscaled features. Set gamma explicitly to 'auto' or 'scale' to avoid this warning.\n\n/opt/conda/envs/Python36/lib/python3.6/site-packages/sklearn/svm/base.py:196: FutureWarning:\n\nThe default value of gamma will change from 'auto' to 'scale' in version 0.22 to account better for unscaled features. Set gamma explicitly to 'auto' or 'scale' to avoid this warning.\n\n",
                    "name": "stderr"
                },
                {
                    "output_type": "stream",
                    "text": "Fitting 3 folds for each of 12 candidates, totalling 36 fits\n\n\nF1 Sore of the SVM model =  0.8235294117647058\nJacard Score of the SVM model =   0.7\n\n\n",
                    "name": "stdout"
                },
                {
                    "output_type": "stream",
                    "text": "/opt/conda/envs/Python36/lib/python3.6/site-packages/sklearn/svm/base.py:196: FutureWarning:\n\nThe default value of gamma will change from 'auto' to 'scale' in version 0.22 to account better for unscaled features. Set gamma explicitly to 'auto' or 'scale' to avoid this warning.\n\n/opt/conda/envs/Python36/lib/python3.6/site-packages/sklearn/svm/base.py:196: FutureWarning:\n\nThe default value of gamma will change from 'auto' to 'scale' in version 0.22 to account better for unscaled features. Set gamma explicitly to 'auto' or 'scale' to avoid this warning.\n\n/opt/conda/envs/Python36/lib/python3.6/site-packages/sklearn/svm/base.py:196: FutureWarning:\n\nThe default value of gamma will change from 'auto' to 'scale' in version 0.22 to account better for unscaled features. Set gamma explicitly to 'auto' or 'scale' to avoid this warning.\n\n/opt/conda/envs/Python36/lib/python3.6/site-packages/sklearn/svm/base.py:196: FutureWarning:\n\nThe default value of gamma will change from 'auto' to 'scale' in version 0.22 to account better for unscaled features. Set gamma explicitly to 'auto' or 'scale' to avoid this warning.\n\n/opt/conda/envs/Python36/lib/python3.6/site-packages/sklearn/svm/base.py:196: FutureWarning:\n\nThe default value of gamma will change from 'auto' to 'scale' in version 0.22 to account better for unscaled features. Set gamma explicitly to 'auto' or 'scale' to avoid this warning.\n\n/opt/conda/envs/Python36/lib/python3.6/site-packages/sklearn/svm/base.py:196: FutureWarning:\n\nThe default value of gamma will change from 'auto' to 'scale' in version 0.22 to account better for unscaled features. Set gamma explicitly to 'auto' or 'scale' to avoid this warning.\n\n/opt/conda/envs/Python36/lib/python3.6/site-packages/sklearn/svm/base.py:196: FutureWarning:\n\nThe default value of gamma will change from 'auto' to 'scale' in version 0.22 to account better for unscaled features. Set gamma explicitly to 'auto' or 'scale' to avoid this warning.\n\n/opt/conda/envs/Python36/lib/python3.6/site-packages/sklearn/svm/base.py:196: FutureWarning:\n\nThe default value of gamma will change from 'auto' to 'scale' in version 0.22 to account better for unscaled features. Set gamma explicitly to 'auto' or 'scale' to avoid this warning.\n\n/opt/conda/envs/Python36/lib/python3.6/site-packages/sklearn/svm/base.py:196: FutureWarning:\n\nThe default value of gamma will change from 'auto' to 'scale' in version 0.22 to account better for unscaled features. Set gamma explicitly to 'auto' or 'scale' to avoid this warning.\n\n/opt/conda/envs/Python36/lib/python3.6/site-packages/sklearn/svm/base.py:196: FutureWarning:\n\nThe default value of gamma will change from 'auto' to 'scale' in version 0.22 to account better for unscaled features. Set gamma explicitly to 'auto' or 'scale' to avoid this warning.\n\n/opt/conda/envs/Python36/lib/python3.6/site-packages/sklearn/svm/base.py:196: FutureWarning:\n\nThe default value of gamma will change from 'auto' to 'scale' in version 0.22 to account better for unscaled features. Set gamma explicitly to 'auto' or 'scale' to avoid this warning.\n\n/opt/conda/envs/Python36/lib/python3.6/site-packages/sklearn/svm/base.py:196: FutureWarning:\n\nThe default value of gamma will change from 'auto' to 'scale' in version 0.22 to account better for unscaled features. Set gamma explicitly to 'auto' or 'scale' to avoid this warning.\n\n/opt/conda/envs/Python36/lib/python3.6/site-packages/sklearn/svm/base.py:196: FutureWarning:\n\nThe default value of gamma will change from 'auto' to 'scale' in version 0.22 to account better for unscaled features. Set gamma explicitly to 'auto' or 'scale' to avoid this warning.\n\n/opt/conda/envs/Python36/lib/python3.6/site-packages/sklearn/svm/base.py:196: FutureWarning:\n\nThe default value of gamma will change from 'auto' to 'scale' in version 0.22 to account better for unscaled features. Set gamma explicitly to 'auto' or 'scale' to avoid this warning.\n\n/opt/conda/envs/Python36/lib/python3.6/site-packages/sklearn/svm/base.py:196: FutureWarning:\n\nThe default value of gamma will change from 'auto' to 'scale' in version 0.22 to account better for unscaled features. Set gamma explicitly to 'auto' or 'scale' to avoid this warning.\n\n/opt/conda/envs/Python36/lib/python3.6/site-packages/sklearn/svm/base.py:196: FutureWarning:\n\nThe default value of gamma will change from 'auto' to 'scale' in version 0.22 to account better for unscaled features. Set gamma explicitly to 'auto' or 'scale' to avoid this warning.\n\n/opt/conda/envs/Python36/lib/python3.6/site-packages/sklearn/svm/base.py:196: FutureWarning:\n\nThe default value of gamma will change from 'auto' to 'scale' in version 0.22 to account better for unscaled features. Set gamma explicitly to 'auto' or 'scale' to avoid this warning.\n\n[Parallel(n_jobs=1)]: Done  36 out of  36 | elapsed:    0.4s finished\n/opt/conda/envs/Python36/lib/python3.6/site-packages/sklearn/model_selection/_search.py:841: DeprecationWarning:\n\nThe default of the `iid` parameter will change from True to False in version 0.22 and will be removed in 0.24. This will change numeric results when test-set sizes are unequal.\n\n/opt/conda/envs/Python36/lib/python3.6/site-packages/sklearn/svm/base.py:196: FutureWarning:\n\nThe default value of gamma will change from 'auto' to 'scale' in version 0.22 to account better for unscaled features. Set gamma explicitly to 'auto' or 'scale' to avoid this warning.\n\n",
                    "name": "stderr"
                }
            ]
        },
        {
            "metadata": {},
            "cell_type": "markdown",
            "source": "# Logistic Regression"
        },
        {
            "metadata": {},
            "cell_type": "code",
            "source": "#Logistic Regression\nlogi = LogisticRegression(max_iter=200 , class_weight='balanced' ,solver='lbfgs')\nlogi.fit(X_train , Y_train)\n\nparam_logi = { 'C' :[100,10,1,0.01,0.001 , 0.0001,0.00001 ,0.000001 ],\n               'solver' : ['lbfgs'  ,'liblinear' ]}\n\n#Using GridSearchCV to find the best HyperParameter\ngrid_1=GridSearchCV(estimator=logi , param_grid=param_logi  ,verbose=1 , scoring='roc_auc' )\ngrid_1.fit(X_train , Y_train)\nlogi_pred=grid_1.predict(X_test)\nlog_prob1 = grid_1.predict_proba(X_test)\n#Score of Logistic Model\nprint()\nprint()\nprint(\"F1 Sore of the Logistic Regression model = \" , f1_score(Y_test , logi_pred , average='weighted' , labels=np.unique(logi_pred)))\nprint(\"Log Loss Score of the Logistic Regression model =  \" ,log_loss(Y_test , log_prob1 ))\nprint(\"Jacard Score of the Logistic Regression model =  \" ,  jaccard_similarity_score(Y_test , logi_pred))\nprint()\nprint()",
            "execution_count": 27,
            "outputs": [
                {
                    "output_type": "stream",
                    "text": "/opt/conda/envs/Python36/lib/python3.6/site-packages/sklearn/model_selection/_split.py:2053: FutureWarning:\n\nYou should specify a value for 'cv' instead of relying on the default value. The default value will change from 3 to 5 in version 0.22.\n\n[Parallel(n_jobs=1)]: Using backend SequentialBackend with 1 concurrent workers.\n",
                    "name": "stderr"
                },
                {
                    "output_type": "stream",
                    "text": "Fitting 3 folds for each of 16 candidates, totalling 48 fits\n\n\nF1 Sore of the Logistic Regression model =  0.5195647625026155\nLog Loss Score of the Logistic Regression model =   0.6916553420035864\nJacard Score of the Logistic Regression model =   0.5\n\n\n",
                    "name": "stdout"
                },
                {
                    "output_type": "stream",
                    "text": "[Parallel(n_jobs=1)]: Done  48 out of  48 | elapsed:    0.3s finished\n/opt/conda/envs/Python36/lib/python3.6/site-packages/sklearn/model_selection/_search.py:841: DeprecationWarning:\n\nThe default of the `iid` parameter will change from True to False in version 0.22 and will be removed in 0.24. This will change numeric results when test-set sizes are unequal.\n\n",
                    "name": "stderr"
                }
            ]
        },
        {
            "metadata": {},
            "cell_type": "markdown",
            "source": "# Model Evaluation using Test set"
        },
        {
            "metadata": {},
            "cell_type": "markdown",
            "source": "First, download and load the test set:"
        },
        {
            "metadata": {},
            "cell_type": "code",
            "source": "!wget -O loan_test.csv https://s3-api.us-geo.objectstorage.softlayer.net/cf-courses-data/CognitiveClass/ML0101ENv3/labs/loan_test.csv",
            "execution_count": 28,
            "outputs": [
                {
                    "output_type": "stream",
                    "text": "--2020-07-16 08:25:30--  https://s3-api.us-geo.objectstorage.softlayer.net/cf-courses-data/CognitiveClass/ML0101ENv3/labs/loan_test.csv\nResolving s3-api.us-geo.objectstorage.softlayer.net (s3-api.us-geo.objectstorage.softlayer.net)... 67.228.254.196\nConnecting to s3-api.us-geo.objectstorage.softlayer.net (s3-api.us-geo.objectstorage.softlayer.net)|67.228.254.196|:443... connected.\nHTTP request sent, awaiting response... 200 OK\nLength: 3642 (3.6K) [text/csv]\nSaving to: \u2018loan_test.csv\u2019\n\n100%[======================================>] 3,642       --.-K/s   in 0s      \n\n2020-07-16 08:25:30 (413 MB/s) - \u2018loan_test.csv\u2019 saved [3642/3642]\n\n",
                    "name": "stdout"
                }
            ]
        },
        {
            "metadata": {
                "button": false,
                "new_sheet": false,
                "run_control": {
                    "read_only": false
                }
            },
            "cell_type": "markdown",
            "source": "### Load Test set for evaluation "
        },
        {
            "metadata": {
                "button": false,
                "new_sheet": false,
                "run_control": {
                    "read_only": false
                }
            },
            "cell_type": "code",
            "source": "data_2 = pd.read_csv('loan_test.csv')\ndata_2.drop( 'Unnamed: 0' , axis =1 , inplace=True )\ndata_2.reset_index()\ndata_2.drop( 'Unnamed: 0.1' , axis =1 , inplace=True )",
            "execution_count": 29,
            "outputs": []
        },
        {
            "metadata": {},
            "cell_type": "code",
            "source": "#Applying the necessary transfomation\n\ndata_2['effective_date']=pd.to_datetime(data_2['effective_date'] , infer_datetime_format=True)\ndata_2['due_date']=pd.to_datetime(data_2['due_date'] , infer_datetime_format=True)\nlst=[]\nfor row in data_2.itertuples():\n x = row.due_date - row.effective_date\n lst.append(x.days)\ndata_2['due_days'] = lst\ndata_2['loan_status'].replace(to_replace=['PAIDOFF','COLLECTION'], value=[0,1],inplace=True)\ndata_2['Gender'].replace(to_replace=['male','female'], value=[0,1],inplace=True)\nenc = OneHotEncoder()\nenc_df = pd.DataFrame(enc.fit_transform(data_2[['education']]).toarray())\ndata_2 = data_2.join(enc_df)\nX = data_2.drop([ 'loan_status' , 'effective_date' , 'due_date' , 'education' ],axis =1 )\nY= data_2['loan_status']\nScaler = StandardScaler()\nX = Scaler.fit_transform(X)",
            "execution_count": 30,
            "outputs": [
                {
                    "output_type": "stream",
                    "text": "/opt/conda/envs/Python36/lib/python3.6/site-packages/sklearn/preprocessing/data.py:645: DataConversionWarning:\n\nData with input dtype int64, float64 were all converted to float64 by StandardScaler.\n\n/opt/conda/envs/Python36/lib/python3.6/site-packages/sklearn/base.py:464: DataConversionWarning:\n\nData with input dtype int64, float64 were all converted to float64 by StandardScaler.\n\n",
                    "name": "stderr"
                }
            ]
        },
        {
            "metadata": {},
            "cell_type": "code",
            "source": "#Score of Logistic Regression Model\n\n#To Filter Warnings in python \nimport warnings\nwarnings.filterwarnings('always')\n\nlogi_pred=grid_1.predict(X)\nlog_prob1 = grid_1.predict_proba(X)\n\nn_lst=[]\nj_lst=[]\nf_lst=[]\nl_lst=[]\n\nprint()\nprint()\nprint(\"F1 Sore of the Logistic Regression model = \" ,f1_score(Y , logi_pred , average='weighted',labels=np.unique(logi_pred)))\nprint(\"Log Loss Score of the Logistic Regression model =  \" ,log_loss(Y , log_prob1 ))\nprint(\"Jacard Score of the Logistic Regression model =  \" ,  jaccard_similarity_score(Y , logi_pred   ))\nprint()\nprint()\nf_lst.append(f1_score(Y , logi_pred , average='weighted', labels=np.unique(logi_pred)))\nl_lst.append(log_loss(Y , log_prob1 ))\nj_lst.append(jaccard_similarity_score(Y , logi_pred   ))\nn_lst.append('LogisticRegression')\n\n#Score of KNN Model\nknn_pred =grid.predict(X)\nknn_prob1 = grid.predict_proba(X)\n\nprint()\nprint()\nprint(\"F1 Sore of the KNN Classification model = \" , f1_score(Y , knn_pred , average='weighted', labels=np.unique(knn_pred)))\nprint(\"Jacard Score of the KNN Classification model =  \" ,  jaccard_similarity_score(Y , knn_pred ))\nprint(\"The Best K Value Has been Found as \" , grid.best_estimator_)\nprint()\nprint()\nf_lst.append(f1_score(Y , knn_pred , average='weighted'  , labels=np.unique(knn_pred)))\n\nj_lst.append(jaccard_similarity_score(Y , knn_pred   ))\nl_lst.append(log_loss(Y , knn_prob1 ))\nn_lst.append('KNN')\n\n\n#Score of Descion Tree Model\ntree_pred = grid_2.predict(X)\ntree_pred1 = grid_2.predict_proba(X)\nprint()\nprint()\nprint(\"F1 Sore of Descion Tree model = \" , f1_score(Y , tree_pred , average='weighted' , labels=np.unique(tree_pred)))\nprint(\"Jacard Score of Descion Tree model =  \" ,  jaccard_similarity_score(Y , tree_pred  ))\nprint()\nprint()\nf_lst.append(f1_score(Y , tree_pred , average='weighted' , labels=np.unique(tree_pred)))\nj_lst.append(jaccard_similarity_score(Y , tree_pred  ))\nl_lst.append(log_loss(Y , tree_pred1 ))\nn_lst.append('Descion Tree')\n\n#Score of Support Vector Classifier Model\nsvm_pred=grid_3.predict(X)\nsvm_pred1 = grid_3.predict_proba(X)\nprint()\nprint()\nprint(\"F1 Sore of the SVM model = \" , f1_score(Y , svm_pred , average='weighted' , labels=np.unique(svm_pred)))\nprint(\"Jacard Score of the SVM model =  \" ,  jaccard_similarity_score(Y , svm_pred))\nprint()\nprint()\nf_lst.append(f1_score(Y , svm_pred , average='weighted' , labels=np.unique(svm_pred)))\nj_lst.append(jaccard_similarity_score(Y , svm_pred ))\nl_lst.append(log_loss(Y , svm_pred1 ))\nn_lst.append('SVM')",
            "execution_count": 32,
            "outputs": [
                {
                    "output_type": "stream",
                    "text": "\n\nF1 Sore of the Logistic Regression model =  0.6630751964085297\nLog Loss Score of the Logistic Regression model =   0.6764895888415248\nJacard Score of the Logistic Regression model =   0.6481481481481481\n\n\n\n\nF1 Sore of the KNN Classification model =  0.6959228135698723\nJacard Score of the KNN Classification model =   0.7592592592592593\nThe Best K Value Has been Found as  KNeighborsClassifier(algorithm='auto', leaf_size=30, metric='minkowski',\n           metric_params=None, n_jobs=None, n_neighbors=5, p=2,\n           weights='uniform')\n\n\n\n\nF1 Sore of Descion Tree model =  0.5566778900112234\nJacard Score of Descion Tree model =   0.5370370370370371\n\n\n\n\nF1 Sore of the SVM model =  0.851063829787234\nJacard Score of the SVM model =   0.7407407407407407\n\n\n",
                    "name": "stdout"
                }
            ]
        },
        {
            "metadata": {},
            "cell_type": "markdown",
            "source": "# Report\nAccuracy of the built model using different evaluation metrics:"
        },
        {
            "metadata": {},
            "cell_type": "code",
            "source": "# Final Report \nReport=pd.DataFrame(columns=['Algorithm' ,'Jaccard','F1-Score','LogLoss'])\nReport['Algorithm'] = n_lst\nReport['Jaccard'] = j_lst\nReport['F1-Score'] = f_lst\nReport['LogLoss'] = l_lst\nprint(\"Report\\n\"  , Report)",
            "execution_count": 33,
            "outputs": [
                {
                    "output_type": "stream",
                    "text": "Report\n             Algorithm   Jaccard  F1-Score   LogLoss\n0  LogisticRegression  0.648148  0.663075  0.676490\n1                 KNN  0.759259  0.695923  1.143064\n2        Descion Tree  0.537037  0.556678  9.968117\n3                 SVM  0.740741  0.851064  0.583934\n",
                    "name": "stdout"
                }
            ]
        },
        {
            "metadata": {},
            "cell_type": "code",
            "source": "",
            "execution_count": null,
            "outputs": []
        }
    ],
    "metadata": {
        "kernelspec": {
            "name": "python3",
            "display_name": "Python 3.6",
            "language": "python"
        },
        "language_info": {
            "name": "python",
            "version": "3.6.9",
            "mimetype": "text/x-python",
            "codemirror_mode": {
                "name": "ipython",
                "version": 3
            },
            "pygments_lexer": "ipython3",
            "nbconvert_exporter": "python",
            "file_extension": ".py"
        }
    },
    "nbformat": 4,
    "nbformat_minor": 2
}